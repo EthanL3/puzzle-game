{
 "cells": [
  {
   "cell_type": "code",
   "execution_count": 16,
   "metadata": {},
   "outputs": [
    {
     "name": "stdout",
     "output_type": "stream",
     "text": [
      "Requirement already satisfied: svgpathtools in c:\\users\\ethan\\anaconda3\\lib\\site-packages (1.6.1)\n",
      "Requirement already satisfied: numpy in c:\\users\\ethan\\anaconda3\\lib\\site-packages (from svgpathtools) (1.24.3)\n",
      "Requirement already satisfied: svgwrite in c:\\users\\ethan\\anaconda3\\lib\\site-packages (from svgpathtools) (1.4.3)\n",
      "Requirement already satisfied: scipy in c:\\users\\ethan\\anaconda3\\lib\\site-packages (from svgpathtools) (1.11.1)\n",
      "Note: you may need to restart the kernel to use updated packages.\n"
     ]
    }
   ],
   "source": [
    "%pip install svgpathtools"
   ]
  },
  {
   "cell_type": "code",
   "execution_count": 17,
   "metadata": {},
   "outputs": [],
   "source": [
    "from svgpathtools import svg2paths\n",
    "\n",
    "paths, attributes = svg2paths('school-bus-2-scaled.svg')"
   ]
  },
  {
   "cell_type": "code",
   "execution_count": null,
   "metadata": {},
   "outputs": [],
   "source": []
  },
  {
   "cell_type": "code",
   "execution_count": null,
   "metadata": {},
   "outputs": [],
   "source": []
  },
  {
   "cell_type": "code",
   "execution_count": null,
   "metadata": {},
   "outputs": [],
   "source": [
    "from svgpathtools import wsvg\n",
    "\n",
    "# Assuming `puzzle_paths` is a list of path objects for each puzzle piece\n",
    "wsvg(paths, attributes=attributes, filename='puzzle_output.svg')"
   ]
  },
  {
   "cell_type": "code",
   "execution_count": null,
   "metadata": {},
   "outputs": [],
   "source": []
  },
  {
   "cell_type": "code",
   "execution_count": 54,
   "metadata": {},
   "outputs": [],
   "source": [
    "import os\n",
    "\n",
    "directory = 'puzzle_pieces'\n",
    "\n",
    "# Get all the files in the directory\n",
    "files = os.listdir(directory)\n",
    "\n",
    "# Iterate over the files and delete them\n",
    "for file in files:\n",
    "    file_path = os.path.join(directory, file)\n",
    "    os.remove(file_path)\n"
   ]
  },
  {
   "cell_type": "code",
   "execution_count": 52,
   "metadata": {},
   "outputs": [],
   "source": [
    "from colormath.color_objects import sRGBColor, LabColor\n",
    "from colormath.color_conversions import convert_color\n",
    "from colormath.color_diff import delta_e_cie2000\n",
    "import numpy as np\n",
    "\n",
    "def calculate_proximity(path1, path2):\n",
    "    # This is a placeholder function; actual implementation depends on your specific needs\n",
    "    # For example, you might calculate the minimum distance between the endpoints of the two paths\n",
    "    return np.linalg.norm(np.array(path1.end) - np.array(path2.end))\n",
    "\n",
    "def compare_colors(color1, color2):\n",
    "    # Define how 'none' values are handled\n",
    "    if color1 == 'none' and color2 == 'none':\n",
    "        return True  # Consider 'none' to be equal to itself\n",
    "    elif 'none' in [color1, color2]:\n",
    "        return False  # If only one color is 'none', consider them different\n",
    "    \n",
    "    # Convert hex colors to LabColor for comparison (skip if either color is 'none')\n",
    "    color1_lab = convert_color(sRGBColor.new_from_rgb_hex(color1), LabColor)\n",
    "    color2_lab = convert_color(sRGBColor.new_from_rgb_hex(color2), LabColor)\n",
    "    \n",
    "    # Calculate the Delta E (CIE2000)\n",
    "    delta_e = delta_e_cie2000(color1_lab, color2_lab)\n",
    "    \n",
    "    # Threshold for color similarity; adjust based on your requirements\n",
    "    threshold = 5\n",
    "    return delta_e < threshold\n",
    "\n",
    "def should_combine(path1, path2, attr1, attr2):\n",
    "    proximity_threshold = 10  # Adjust based on your SVG's scale\n",
    "    length_threshold = 10  # Minimum path length to consider for combination\n",
    "    \n",
    "    if path1.length() < length_threshold or path2.length() < length_threshold:\n",
    "        return False  # Don't combine very short paths\n",
    "    \n",
    "    if calculate_proximity(path1, path2) > proximity_threshold:\n",
    "        return False  # Paths are too far apart\n",
    "    \n",
    "    # Adjust logic to handle 'none' values in color comparison\n",
    "    if not compare_colors(attr1.get('stroke', 'none'), attr2.get('stroke', 'none')):\n",
    "        return False  # Colors are too different\n",
    "    \n",
    "    return True\n"
   ]
  }
 ],
 "metadata": {
  "kernelspec": {
   "display_name": "base",
   "language": "python",
   "name": "python3"
  },
  "language_info": {
   "codemirror_mode": {
    "name": "ipython",
    "version": 3
   },
   "file_extension": ".py",
   "mimetype": "text/x-python",
   "name": "python",
   "nbconvert_exporter": "python",
   "pygments_lexer": "ipython3",
   "version": "3.11.5"
  }
 },
 "nbformat": 4,
 "nbformat_minor": 2
}
